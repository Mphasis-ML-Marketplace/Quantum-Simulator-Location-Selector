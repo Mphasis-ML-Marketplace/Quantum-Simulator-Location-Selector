{
 "cells": [
  {
   "cell_type": "markdown",
   "metadata": {},
   "source": [
    "# Quantum Simulator: Location Selector\n",
    "\n",
    "This solution solves a problem where physical locations need to be equipped with services or products to satisfy demand within a certain area, while minimizing costs. For example, selecting branch and ATM sites in banking domain, selecting locations for CCTVs or Air Quality sensors in cities, etc. \n",
    "For large instances(number of locations) this problem cannot be optimally solved classically as it becomes computationally complex and time-consuming. Simulated Quantum Annealing provides a better alternative to classical methods by drastically reducing the computing time while minimizing cost. It delivers the required parallelization to explore many possible combinations simultaneously.\n",
    "\n",
    "### Prerequisite\n",
    "\n",
    "The kernel comes pre-installed with the required packages. Else ensure to have the following Python Packages in your environment at minimum:\n",
    "\n",
    "    - numpy\n",
    "    - pandas\n",
    "### Usage instructions\n",
    "Usage Methodology for the algorithm:\n",
    "1. The input has to be a .csv file with the content in columns titled 'service', 'location', 'point', 'opening_costs', 'equip_costs'\n",
    "1. The file should follow 'utf-8' encoding.\n",
    "1. The input can have a maximum of 200 demand points, 200 locations and 5 services.\n",
    "1. 'opening_costs' column should contain the opening costs, for each location, with 1st row having cost for 0th location, 2nd row having cost for 1st location and so on. \n",
    "1. 'equip_costs' column should contain costs of equipping a service, for each service, in same fashion as above.\n",
    "\n",
    "General instructions for consuming the service on Sagemaker:\n",
    "1. Access to AWS SageMaker and the model package\n",
    "1. An S3 bucket to specify input/output\n",
    "1. Role for AWS SageMaker to access input/output from S3\n",
    "\n",
    "\n",
    " ### Contents\n",
    "\n",
    "1. [Importing libraries for runtime](#Importing-libraries-for-runtime)\n",
    "1. [Model](#Model)\n",
    "1. [Batch Transform](#Batch-Transform)\n",
    "1. [Output](#Output)\n",
    "1. [Endpoint](#Endpoint)"
   ]
  },
  {
   "cell_type": "markdown",
   "metadata": {},
   "source": [
    "## Importing libraries for runtime"
   ]
  },
  {
   "cell_type": "code",
   "execution_count": 1,
   "metadata": {},
   "outputs": [],
   "source": [
    "import pandas as pd\n",
    "import boto3\n",
    "import re"
   ]
  },
  {
   "cell_type": "markdown",
   "metadata": {},
   "source": [
    "### Input Format\n",
    "The input has to be a .csv file with the content in columns titled \n",
    "\n",
    "'service', 'location', 'point', 'opening_costs', 'equip_costs'.\n",
    "\n",
    "Rows must be arranged in the manner as explained by following example. \n",
    "\n",
    "| service | location | point | opening_cost | equip_cost |\n",
    "|---------|----------|-------|--------------|------------|\n",
    "| 0       | 0        | 30    | 4807         | 457        |\n",
    "| 0       | 0        | 48    | 4396         | 380        |\n",
    "| 0       | 1        | 11    | 4029         |            |\n",
    "| 0       | 1        | 14    | 4671         |            |\n",
    "| 0       | 1        | 19    | 4323         |            |\n",
    "...\n",
    "| 1       | 2        | 13    |\n",
    "| 1       | 2        | 17    |\n",
    "...\n",
    "\n",
    "Service 0 can be equipped at location 0 satifying demand points 30 and 48.\n",
    "Service 0 can be equipped at location 1 satifying demand points 11, 14 and 19.\n",
    "Service 1 can be equipped at location 2 satifying demand points 13 and 17.\n",
    "\n",
    "Columns 'opening_costs' and 'equip_costs' are unrelated to first 3 columns. \n",
    "'opening_costs' contains opening costs for locations 0 to 49 (for a problem with 50 locations).\n",
    "'equip_costs' contains equipping costs for services 0 and 1 (for a problem with 2 services).\n",
    "\n",
    "<b> Note: \n",
    "    Input file should be of the form .csv and with 'utf-8' encoding. Ensure Content-Type is 'text/csv'\n",
    "</b>"
   ]
  },
  {
   "cell_type": "code",
   "execution_count": 2,
   "metadata": {},
   "outputs": [
    {
     "data": {
      "text/html": [
       "<div>\n",
       "<style scoped>\n",
       "    .dataframe tbody tr th:only-of-type {\n",
       "        vertical-align: middle;\n",
       "    }\n",
       "\n",
       "    .dataframe tbody tr th {\n",
       "        vertical-align: top;\n",
       "    }\n",
       "\n",
       "    .dataframe thead th {\n",
       "        text-align: right;\n",
       "    }\n",
       "</style>\n",
       "<table border=\"1\" class=\"dataframe\">\n",
       "  <thead>\n",
       "    <tr style=\"text-align: right;\">\n",
       "      <th></th>\n",
       "      <th>service</th>\n",
       "      <th>location</th>\n",
       "      <th>point</th>\n",
       "      <th>opening_costs</th>\n",
       "      <th>equip_costs</th>\n",
       "    </tr>\n",
       "  </thead>\n",
       "  <tbody>\n",
       "    <tr>\n",
       "      <th>0</th>\n",
       "      <td>0</td>\n",
       "      <td>0</td>\n",
       "      <td>30</td>\n",
       "      <td>4807.0</td>\n",
       "      <td>457.0</td>\n",
       "    </tr>\n",
       "    <tr>\n",
       "      <th>1</th>\n",
       "      <td>0</td>\n",
       "      <td>0</td>\n",
       "      <td>48</td>\n",
       "      <td>4396.0</td>\n",
       "      <td>380.0</td>\n",
       "    </tr>\n",
       "    <tr>\n",
       "      <th>2</th>\n",
       "      <td>0</td>\n",
       "      <td>1</td>\n",
       "      <td>11</td>\n",
       "      <td>4027.0</td>\n",
       "      <td>NaN</td>\n",
       "    </tr>\n",
       "    <tr>\n",
       "      <th>3</th>\n",
       "      <td>0</td>\n",
       "      <td>1</td>\n",
       "      <td>14</td>\n",
       "      <td>4671.0</td>\n",
       "      <td>NaN</td>\n",
       "    </tr>\n",
       "    <tr>\n",
       "      <th>4</th>\n",
       "      <td>0</td>\n",
       "      <td>1</td>\n",
       "      <td>19</td>\n",
       "      <td>4313.0</td>\n",
       "      <td>NaN</td>\n",
       "    </tr>\n",
       "    <tr>\n",
       "      <th>5</th>\n",
       "      <td>0</td>\n",
       "      <td>1</td>\n",
       "      <td>21</td>\n",
       "      <td>4758.0</td>\n",
       "      <td>NaN</td>\n",
       "    </tr>\n",
       "    <tr>\n",
       "      <th>6</th>\n",
       "      <td>0</td>\n",
       "      <td>1</td>\n",
       "      <td>37</td>\n",
       "      <td>4586.0</td>\n",
       "      <td>NaN</td>\n",
       "    </tr>\n",
       "    <tr>\n",
       "      <th>7</th>\n",
       "      <td>0</td>\n",
       "      <td>1</td>\n",
       "      <td>38</td>\n",
       "      <td>4066.0</td>\n",
       "      <td>NaN</td>\n",
       "    </tr>\n",
       "    <tr>\n",
       "      <th>8</th>\n",
       "      <td>0</td>\n",
       "      <td>1</td>\n",
       "      <td>44</td>\n",
       "      <td>4118.0</td>\n",
       "      <td>NaN</td>\n",
       "    </tr>\n",
       "    <tr>\n",
       "      <th>9</th>\n",
       "      <td>0</td>\n",
       "      <td>2</td>\n",
       "      <td>30</td>\n",
       "      <td>4734.0</td>\n",
       "      <td>NaN</td>\n",
       "    </tr>\n",
       "  </tbody>\n",
       "</table>\n",
       "</div>"
      ],
      "text/plain": [
       "   service  location  point  opening_costs  equip_costs\n",
       "0        0         0     30         4807.0        457.0\n",
       "1        0         0     48         4396.0        380.0\n",
       "2        0         1     11         4027.0          NaN\n",
       "3        0         1     14         4671.0          NaN\n",
       "4        0         1     19         4313.0          NaN\n",
       "5        0         1     21         4758.0          NaN\n",
       "6        0         1     37         4586.0          NaN\n",
       "7        0         1     38         4066.0          NaN\n",
       "8        0         1     44         4118.0          NaN\n",
       "9        0         2     30         4734.0          NaN"
      ]
     },
     "execution_count": 2,
     "metadata": {},
     "output_type": "execute_result"
    }
   ],
   "source": [
    "input_df  = pd.read_csv(\"input.csv\")\n",
    "input_df.head(10)"
   ]
  },
  {
   "cell_type": "markdown",
   "metadata": {},
   "source": [
    "## Model\n",
    "\n",
    "### De-Serializing model\n",
    "\n",
    "The serialzed Pickle file containing the trained model must be loaded for predicting the optimal path of the given set of customers and their demands.\n",
    "\n",
    "The model is de-serialized to a Python object.\n"
   ]
  },
  {
   "cell_type": "code",
   "execution_count": 3,
   "metadata": {},
   "outputs": [],
   "source": [
    "model_package_arn = 'Put your ARN here'"
   ]
  },
  {
   "cell_type": "code",
   "execution_count": 4,
   "metadata": {},
   "outputs": [],
   "source": [
    "from sagemaker import ModelPackage\n",
    "import sagemaker as sage\n",
    "from sagemaker import get_execution_role\n",
    "\n",
    "role = get_execution_role()\n",
    "sagemaker_session = sage.Session()"
   ]
  },
  {
   "cell_type": "code",
   "execution_count": 5,
   "metadata": {},
   "outputs": [
    {
     "name": "stderr",
     "output_type": "stream",
     "text": [
      "Parameter image will be renamed to image_uri in SageMaker Python SDK v2.\n"
     ]
    }
   ],
   "source": [
    "model = ModelPackage(model_package_arn=model_package_arn,\n",
    "                    role = role,\n",
    "                    sagemaker_session = sagemaker_session)"
   ]
  },
  {
   "cell_type": "markdown",
   "metadata": {},
   "source": [
    "## Batch Transform"
   ]
  },
  {
   "cell_type": "code",
   "execution_count": 6,
   "metadata": {},
   "outputs": [
    {
     "name": "stdout",
     "output_type": "stream",
     "text": [
      ".......................\u001b[32m2020-10-26T16:08:33.771:[sagemaker logs]: MaxConcurrentTransforms=1, MaxPayloadInMB=6, BatchStrategy=MULTI_RECORD\u001b[0m\n",
      "\u001b[34m * Serving Flask app \"serve\" (lazy loading)\n",
      " * Environment: production\n",
      "   WARNING: This is a development server. Do not use it in a production deployment.\n",
      "   Use a production WSGI server instead.\n",
      " * Debug mode: off\n",
      " * Running on http://0.0.0.0:8080/ (Press CTRL+C to quit)\u001b[0m\n",
      "\u001b[34m169.254.255.130 - - [26/Oct/2020 16:08:33] \"#033[37mGET /ping HTTP/1.1#033[0m\" 200 -\u001b[0m\n",
      "\u001b[34m169.254.255.130 - - [26/Oct/2020 16:08:33] \"#033[33mGET /execution-parameters HTTP/1.1#033[0m\" 404 -\u001b[0m\n",
      "\u001b[34mSTEP 1 executed....\u001b[0m\n",
      "\u001b[35m * Serving Flask app \"serve\" (lazy loading)\n",
      " * Environment: production\n",
      "   WARNING: This is a development server. Do not use it in a production deployment.\n",
      "   Use a production WSGI server instead.\n",
      " * Debug mode: off\n",
      " * Running on http://0.0.0.0:8080/ (Press CTRL+C to quit)\u001b[0m\n",
      "\u001b[35m169.254.255.130 - - [26/Oct/2020 16:08:33] \"#033[37mGET /ping HTTP/1.1#033[0m\" 200 -\u001b[0m\n",
      "\u001b[35m169.254.255.130 - - [26/Oct/2020 16:08:33] \"#033[33mGET /execution-parameters HTTP/1.1#033[0m\" 404 -\u001b[0m\n",
      "\u001b[35mSTEP 1 executed....\u001b[0m\n",
      "\n",
      "\u001b[34m--------------------------------------------\n",
      "\u001b[0m\n",
      "\u001b[34mBEST SOLUTION\n",
      " {'service_allocation': {0: [3, 4, 6, 8, 10, 11, 12, 15, 17, 19, 20, 23, 24, 27, 28, 30, 31, 32, 34, 35, 36, 37, 39, 40, 42, 43, 44, 45, 47], 1: [0, 1, 2, 6, 9, 10, 11, 15, 16, 19, 22, 23, 24, 26, 27, 28, 29, 30, 31, 32, 34, 35, 36, 38, 40, 41, 43, 44, 45, 47, 48]}, 'enabled_locations': [0, 1, 2, 3, 4, 6, 8, 9, 10, 11, 12, 15, 16, 17, 19, 20, 22, 23, 24, 26, 27, 28, 29, 30, 31, 32, 34, 35, 36, 37, 38, 39, 40, 41, 42, 43, 44, 45, 47, 48], 'cost': 235963.0}\u001b[0m\n",
      "\u001b[34m169.254.255.130 - - [26/Oct/2020 16:08:46] \"#033[37mPOST /invocations HTTP/1.1#033[0m\" 200 -\u001b[0m\n",
      "\u001b[35m--------------------------------------------\n",
      "\u001b[0m\n",
      "\u001b[35mBEST SOLUTION\n",
      " {'service_allocation': {0: [3, 4, 6, 8, 10, 11, 12, 15, 17, 19, 20, 23, 24, 27, 28, 30, 31, 32, 34, 35, 36, 37, 39, 40, 42, 43, 44, 45, 47], 1: [0, 1, 2, 6, 9, 10, 11, 15, 16, 19, 22, 23, 24, 26, 27, 28, 29, 30, 31, 32, 34, 35, 36, 38, 40, 41, 43, 44, 45, 47, 48]}, 'enabled_locations': [0, 1, 2, 3, 4, 6, 8, 9, 10, 11, 12, 15, 16, 17, 19, 20, 22, 23, 24, 26, 27, 28, 29, 30, 31, 32, 34, 35, 36, 37, 38, 39, 40, 41, 42, 43, 44, 45, 47, 48], 'cost': 235963.0}\u001b[0m\n",
      "\u001b[35m169.254.255.130 - - [26/Oct/2020 16:08:46] \"#033[37mPOST /invocations HTTP/1.1#033[0m\" 200 -\u001b[0m\n",
      "\u001b[34m169.254.255.130 - - [26/Oct/2020 16:08:46] \"#033[37mPOST /invocations HTTP/1.1#033[0m\" 200 -\u001b[0m\n",
      "\u001b[35m169.254.255.130 - - [26/Oct/2020 16:08:46] \"#033[37mPOST /invocations HTTP/1.1#033[0m\" 200 -\u001b[0m\n",
      "Batch Transform complete\n"
     ]
    }
   ],
   "source": [
    "import json \n",
    "import uuid\n",
    "\n",
    "\n",
    "transformer = model.transformer(1, 'ml.m5.large')\n",
    "transformer.transform('s3://mphasis-marketplace/location-selection/input.csv', content_type='text/csv')\n",
    "transformer.wait()\n",
    "#transformer.output_path\n",
    "print(\"Batch Transform complete\")\n",
    "bucketFolder = transformer.output_path.rsplit('/')[3]"
   ]
  },
  {
   "cell_type": "code",
   "execution_count": 7,
   "metadata": {},
   "outputs": [
    {
     "name": "stdout",
     "output_type": "stream",
     "text": [
      "Output file loaded from bucket\n"
     ]
    }
   ],
   "source": [
    "#print(s3bucket,s3prefix)\n",
    "s3_conn = boto3.client(\"s3\")\n",
    "bucket_name=\"sagemaker-us-east-2-786796469737\"\n",
    "with open('FILE_NAME', 'wb') as f:\n",
    "    s3_conn.download_fileobj(bucket_name, bucketFolder+'/input.csv.out', f)\n",
    "    print(\"Output file loaded from bucket\")"
   ]
  },
  {
   "cell_type": "markdown",
   "metadata": {},
   "source": [
    "## Output\n",
    "\n",
    "- The processed output is of the form JSON file\n",
    "\n",
    "- Output JSON file will contain allotted locations for each service, list of all enabled location and net cost of the solution."
   ]
  },
  {
   "cell_type": "code",
   "execution_count": 8,
   "metadata": {},
   "outputs": [
    {
     "name": "stdout",
     "output_type": "stream",
     "text": [
      "Service Allocations->\n",
      "Service: 0 \tLocations:  [3, 4, 6, 8, 10, 11, 12, 15, 17, 19, 20, 23, 24, 27, 28, 30, 31, 32, 34, 35, 36, 37, 39, 40, 42, 43, 44, 45, 47]\n",
      "Service: 1 \tLocations:  [0, 1, 2, 6, 9, 10, 11, 15, 16, 19, 22, 23, 24, 26, 27, 28, 29, 30, 31, 32, 34, 35, 36, 38, 40, 41, 43, 44, 45, 47, 48]\n",
      "\n",
      "Enabled Locations->  [0, 1, 2, 3, 4, 6, 8, 9, 10, 11, 12, 15, 16, 17, 19, 20, 22, 23, 24, 26, 27, 28, 29, 30, 31, 32, 34, 35, 36, 37, 38, 39, 40, 41, 42, 43, 44, 45, 47, 48]\n",
      "\n",
      "Net Cost->  235963.0\n"
     ]
    }
   ],
   "source": [
    "import json\n",
    "f = open(\"FILE_NAME\",) \n",
    "data = json.load(f)\n",
    "f.close() \n",
    "\n",
    "print('Service Allocations->')\n",
    "for service, allocations in data['service_allocation'].items():\n",
    "    print('Service:', service, '\\tLocations: ', allocations)\n",
    "\n",
    "print('\\nEnabled Locations-> ', data['enabled_locations'])\n",
    "print('\\nNet Cost-> ', data['cost'])"
   ]
  },
  {
   "cell_type": "markdown",
   "metadata": {},
   "source": [
    "## Endpoint\n",
    "Here is a sample endpoint for reference"
   ]
  },
  {
   "cell_type": "code",
   "execution_count": 9,
   "metadata": {},
   "outputs": [],
   "source": [
    "import json \n",
    "import uuid\n",
    "from sagemaker import ModelPackage\n",
    "import sagemaker as sage\n",
    "from sagemaker import get_execution_role\n",
    "from sagemaker import ModelPackage\n",
    "import boto3\n",
    "from IPython.display import Image\n",
    "from PIL import Image as ImageEdit\n",
    "\n",
    "role = get_execution_role()\n",
    "\n",
    "sagemaker_session = sage.Session()\n",
    "bucket=sagemaker_session.default_bucket()"
   ]
  },
  {
   "cell_type": "code",
   "execution_count": 10,
   "metadata": {},
   "outputs": [],
   "source": [
    "content_type='text/csv'\n",
    "model_name='LOCATIONSET'\n",
    "real_time_inference_instance_type='ml.m5.xlarge'"
   ]
  },
  {
   "cell_type": "code",
   "execution_count": 11,
   "metadata": {},
   "outputs": [],
   "source": [
    "model_package_arn = 'Put your ARN here'"
   ]
  },
  {
   "cell_type": "code",
   "execution_count": 12,
   "metadata": {},
   "outputs": [],
   "source": [
    "from sagemaker import ModelPackage\n",
    "import sagemaker as sage\n",
    "from sagemaker import get_execution_role\n",
    "\n",
    "role = get_execution_role()\n",
    "sagemaker_session = sage.Session()"
   ]
  },
  {
   "cell_type": "code",
   "execution_count": 13,
   "metadata": {},
   "outputs": [
    {
     "name": "stderr",
     "output_type": "stream",
     "text": [
      "Parameter image will be renamed to image_uri in SageMaker Python SDK v2.\n"
     ]
    }
   ],
   "source": [
    "#Define predictor wrapper class\n",
    "def predict_wrapper(endpoint, session):\n",
    "    return sage.RealTimePredictor(endpoint, session,content_type=content_type)\n",
    "#create a deployable model from the model package.\n",
    "model = ModelPackage(role=role,\n",
    "                    model_package_arn=model_package_arn,\n",
    "                    sagemaker_session=sagemaker_session,\n",
    "                    predictor_cls=predict_wrapper)"
   ]
  },
  {
   "cell_type": "code",
   "execution_count": 14,
   "metadata": {},
   "outputs": [
    {
     "name": "stdout",
     "output_type": "stream",
     "text": [
      "-----------!"
     ]
    }
   ],
   "source": [
    "predictor = model.deploy(1, real_time_inference_instance_type, endpoint_name=model_name)"
   ]
  },
  {
   "cell_type": "code",
   "execution_count": 15,
   "metadata": {},
   "outputs": [],
   "source": [
    "input_file_name = 'input.csv'\n",
    "output_file_name = 'output.json'"
   ]
  },
  {
   "cell_type": "code",
   "execution_count": 16,
   "metadata": {},
   "outputs": [
    {
     "name": "stdout",
     "output_type": "stream",
     "text": [
      "{\r\n",
      "    \"ContentType\": \"application/json\",\r\n",
      "    \"InvokedProductionVariant\": \"AllTraffic\"\r\n",
      "}\r\n"
     ]
    }
   ],
   "source": [
    "!aws sagemaker-runtime invoke-endpoint --endpoint-name $model_name --body fileb://$input_file_name --content-type 'text/csv' --region us-east-2 $output_file_name"
   ]
  },
  {
   "cell_type": "code",
   "execution_count": 17,
   "metadata": {},
   "outputs": [
    {
     "name": "stdout",
     "output_type": "stream",
     "text": [
      "Service Allocations->\n",
      "Service: 0 \tLocations:  [1, 2, 3, 4, 5, 10, 11, 16, 17, 23, 24, 27, 32, 36, 37, 38, 40, 41, 42, 44, 46, 47, 48]\n",
      "Service: 1 \tLocations:  [0, 3, 7, 8, 9, 10, 11, 13, 15, 19, 21, 23, 24, 30, 31, 34, 36, 38, 40, 44, 46, 47]\n",
      "\n",
      "Enabled Locations->  [0, 1, 2, 3, 4, 5, 7, 8, 9, 10, 11, 13, 15, 16, 17, 19, 21, 23, 24, 27, 30, 31, 32, 34, 36, 37, 38, 40, 41, 42, 44, 46, 47, 48]\n",
      "\n",
      "Net Cost->  225388.0\n"
     ]
    }
   ],
   "source": [
    "f = open(output_file_name,) \n",
    "data = json.load(f)\n",
    "f.close() \n",
    "\n",
    "print('Service Allocations->')\n",
    "for service, allocations in data['service_allocation'].items():\n",
    "    print('Service:', service, '\\tLocations: ', allocations)\n",
    "\n",
    "print('\\nEnabled Locations-> ', data['enabled_locations'])\n",
    "print('\\nNet Cost-> ', data['cost'])"
   ]
  },
  {
   "cell_type": "code",
   "execution_count": 18,
   "metadata": {},
   "outputs": [],
   "source": [
    "# Delete Endpoint\n",
    "predictor.delete_endpoint()"
   ]
  },
  {
   "cell_type": "code",
   "execution_count": null,
   "metadata": {},
   "outputs": [],
   "source": []
  }
 ],
 "metadata": {
  "kernelspec": {
   "display_name": "conda_python3",
   "language": "python",
   "name": "conda_python3"
  },
  "language_info": {
   "codemirror_mode": {
    "name": "ipython",
    "version": 3
   },
   "file_extension": ".py",
   "mimetype": "text/x-python",
   "name": "python",
   "nbconvert_exporter": "python",
   "pygments_lexer": "ipython3",
   "version": "3.6.10"
  }
 },
 "nbformat": 4,
 "nbformat_minor": 4
}
